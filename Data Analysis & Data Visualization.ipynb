{
 "cells": [
  {
   "cell_type": "code",
   "execution_count": 3,
   "metadata": {
    "collapsed": true
   },
   "outputs": [],
   "source": [
    "import numpy as np\n",
    "import pandas as pd\n",
    "import matplotlib.pyplot as plt\n",
    "import seaborn as sns\n",
    "%matplotlib inline"
   ]
  },
  {
   "cell_type": "code",
   "execution_count": 122,
   "metadata": {
    "collapsed": false
   },
   "outputs": [],
   "source": [
    "RawConstruction = pd.read_csv('C:\\\\Users\\\\Nikos Spanos\\\\Documents\\\\Jupyter_Lab_ReGen\\\\phase-a\\\\RawConstructionData(final).csv', delimiter=',',  index_col=0)\n",
    "Schedule = pd.read_csv('C:\\\\Users\\\\Nikos Spanos\\\\Documents\\\\Jupyter_Lab_ReGen\\\\phase-a\\\\Schedule(latest).csv', delimiter=',',  index_col=0)"
   ]
  },
  {
   "cell_type": "code",
   "execution_count": 123,
   "metadata": {
    "collapsed": false
   },
   "outputs": [],
   "source": [
    "RawConstruction = RawConstruction.drop(RawConstruction.columns[RawConstruction.columns.str.contains('unnamed',case = False)],axis = 1)"
   ]
  },
  {
   "cell_type": "code",
   "execution_count": 124,
   "metadata": {
    "collapsed": false
   },
   "outputs": [],
   "source": [
    "Schedule = Schedule.drop(Schedule.columns[Schedule.columns.str.contains('unnamed',case = False)],axis = 1)"
   ]
  },
  {
   "cell_type": "markdown",
   "metadata": {},
   "source": [
    "Use unique() and value_counts()"
   ]
  },
  {
   "cell_type": "code",
   "execution_count": 57,
   "metadata": {
    "collapsed": false
   },
   "outputs": [
    {
     "data": {
      "text/plain": [
       "array(['Beam', 'Columns', 'ConcreteWall', 'Earthwork', 'Formwork',\n",
       "       'Mat Foundation', 'Parapet', 'Protection Layer', 'Ramp',\n",
       "       'Retaining Wall', 'Slab', 'Stair'], dtype=object)"
      ]
     },
     "execution_count": 57,
     "metadata": {},
     "output_type": "execute_result"
    }
   ],
   "source": [
    "RawConstruction['Construction Element Type'].unique()"
   ]
  },
  {
   "cell_type": "code",
   "execution_count": 52,
   "metadata": {
    "collapsed": false
   },
   "outputs": [
    {
     "data": {
      "text/plain": [
       "Beam                597\n",
       "Protection Layer    531\n",
       "ConcreteWall        339\n",
       "Columns             222\n",
       "Mat Foundation      148\n",
       "Formwork            146\n",
       "Parapet             132\n",
       "Stair                80\n",
       "Retaining Wall       48\n",
       "Slab                 27\n",
       "Ramp                 18\n",
       "Earthwork             7\n",
       "Name: Construction Element Type, dtype: int64"
      ]
     },
     "execution_count": 52,
     "metadata": {},
     "output_type": "execute_result"
    }
   ],
   "source": [
    "RawConstruction['Construction Element Type'].value_counts()"
   ]
  },
  {
   "cell_type": "code",
   "execution_count": 54,
   "metadata": {
    "collapsed": false
   },
   "outputs": [
    {
     "data": {
      "text/plain": [
       "array(['ConcreteWork', 'EarthWork', 'FormWork', 'ProtectionWork'],\n",
       "      dtype=object)"
      ]
     },
     "execution_count": 54,
     "metadata": {},
     "output_type": "execute_result"
    }
   ],
   "source": [
    "RawConstruction['Construction Element Family'].unique()"
   ]
  },
  {
   "cell_type": "code",
   "execution_count": 55,
   "metadata": {
    "collapsed": false
   },
   "outputs": [
    {
     "data": {
      "text/plain": [
       "ConcreteWork      1611\n",
       "ProtectionWork     531\n",
       "FormWork           146\n",
       "EarthWork            7\n",
       "Name: Construction Element Family, dtype: int64"
      ]
     },
     "execution_count": 55,
     "metadata": {},
     "output_type": "execute_result"
    }
   ],
   "source": [
    "RawConstruction['Construction Element Family'].value_counts()"
   ]
  },
  {
   "cell_type": "markdown",
   "metadata": {},
   "source": [
    "6.b - Statistics"
   ]
  },
  {
   "cell_type": "code",
   "execution_count": 58,
   "metadata": {
    "collapsed": false
   },
   "outputs": [
    {
     "name": "stderr",
     "output_type": "stream",
     "text": [
      "C:\\Users\\Nikos Spanos\\Anaconda3\\lib\\site-packages\\numpy\\lib\\function_base.py:4291: RuntimeWarning: Invalid value encountered in percentile\n",
      "  interpolation=interpolation)\n"
     ]
    },
    {
     "data": {
      "text/html": [
       "<div>\n",
       "<table border=\"1\" class=\"dataframe\">\n",
       "  <thead>\n",
       "    <tr style=\"text-align: right;\">\n",
       "      <th></th>\n",
       "      <th>ID</th>\n",
       "      <th>Quantity</th>\n",
       "      <th>UnitPrice</th>\n",
       "      <th>TotalCost</th>\n",
       "      <th>Length</th>\n",
       "      <th>Thickness</th>\n",
       "      <th>Height</th>\n",
       "      <th>X</th>\n",
       "      <th>Y</th>\n",
       "      <th>Z</th>\n",
       "    </tr>\n",
       "  </thead>\n",
       "  <tbody>\n",
       "    <tr>\n",
       "      <th>count</th>\n",
       "      <td>2295.000000</td>\n",
       "      <td>2295.000000</td>\n",
       "      <td>2295.000000</td>\n",
       "      <td>2295.000000</td>\n",
       "      <td>1841.000000</td>\n",
       "      <td>1841.000000</td>\n",
       "      <td>1841.000000</td>\n",
       "      <td>2295.000000</td>\n",
       "      <td>2295.000000</td>\n",
       "      <td>2295.000000</td>\n",
       "    </tr>\n",
       "    <tr>\n",
       "      <th>mean</th>\n",
       "      <td>42998.432244</td>\n",
       "      <td>146.455399</td>\n",
       "      <td>27.081046</td>\n",
       "      <td>454.171856</td>\n",
       "      <td>5.564498</td>\n",
       "      <td>0.286464</td>\n",
       "      <td>1.617958</td>\n",
       "      <td>24.885756</td>\n",
       "      <td>18.990774</td>\n",
       "      <td>2.459532</td>\n",
       "    </tr>\n",
       "    <tr>\n",
       "      <th>std</th>\n",
       "      <td>5598.073473</td>\n",
       "      <td>2144.250955</td>\n",
       "      <td>38.341642</td>\n",
       "      <td>4214.520529</td>\n",
       "      <td>6.358487</td>\n",
       "      <td>0.321796</td>\n",
       "      <td>1.551904</td>\n",
       "      <td>13.021226</td>\n",
       "      <td>9.851166</td>\n",
       "      <td>4.879107</td>\n",
       "    </tr>\n",
       "    <tr>\n",
       "      <th>min</th>\n",
       "      <td>31571.000000</td>\n",
       "      <td>0.027000</td>\n",
       "      <td>1.000000</td>\n",
       "      <td>0.140000</td>\n",
       "      <td>0.060000</td>\n",
       "      <td>0.020000</td>\n",
       "      <td>0.150000</td>\n",
       "      <td>0.050000</td>\n",
       "      <td>-0.775000</td>\n",
       "      <td>-6.350000</td>\n",
       "    </tr>\n",
       "    <tr>\n",
       "      <th>25%</th>\n",
       "      <td>40890.000000</td>\n",
       "      <td>1.700000</td>\n",
       "      <td>2.000000</td>\n",
       "      <td>31.185000</td>\n",
       "      <td>NaN</td>\n",
       "      <td>NaN</td>\n",
       "      <td>NaN</td>\n",
       "      <td>13.675000</td>\n",
       "      <td>12.115500</td>\n",
       "      <td>-1.700000</td>\n",
       "    </tr>\n",
       "    <tr>\n",
       "      <th>50%</th>\n",
       "      <td>42765.000000</td>\n",
       "      <td>6.143000</td>\n",
       "      <td>12.000000</td>\n",
       "      <td>92.367000</td>\n",
       "      <td>NaN</td>\n",
       "      <td>NaN</td>\n",
       "      <td>NaN</td>\n",
       "      <td>25.000000</td>\n",
       "      <td>20.779000</td>\n",
       "      <td>2.375000</td>\n",
       "    </tr>\n",
       "    <tr>\n",
       "      <th>75%</th>\n",
       "      <td>47378.000000</td>\n",
       "      <td>42.230000</td>\n",
       "      <td>13.000000</td>\n",
       "      <td>171.509000</td>\n",
       "      <td>NaN</td>\n",
       "      <td>NaN</td>\n",
       "      <td>NaN</td>\n",
       "      <td>36.597000</td>\n",
       "      <td>25.650000</td>\n",
       "      <td>6.875000</td>\n",
       "    </tr>\n",
       "    <tr>\n",
       "      <th>max</th>\n",
       "      <td>53694.000000</td>\n",
       "      <td>94882.837000</td>\n",
       "      <td>99.000000</td>\n",
       "      <td>134191.431000</td>\n",
       "      <td>49.900000</td>\n",
       "      <td>3.000000</td>\n",
       "      <td>4.350000</td>\n",
       "      <td>49.950000</td>\n",
       "      <td>39.950000</td>\n",
       "      <td>11.810000</td>\n",
       "    </tr>\n",
       "  </tbody>\n",
       "</table>\n",
       "</div>"
      ],
      "text/plain": [
       "                 ID      Quantity    UnitPrice      TotalCost       Length  \\\n",
       "count   2295.000000   2295.000000  2295.000000    2295.000000  1841.000000   \n",
       "mean   42998.432244    146.455399    27.081046     454.171856     5.564498   \n",
       "std     5598.073473   2144.250955    38.341642    4214.520529     6.358487   \n",
       "min    31571.000000      0.027000     1.000000       0.140000     0.060000   \n",
       "25%    40890.000000      1.700000     2.000000      31.185000          NaN   \n",
       "50%    42765.000000      6.143000    12.000000      92.367000          NaN   \n",
       "75%    47378.000000     42.230000    13.000000     171.509000          NaN   \n",
       "max    53694.000000  94882.837000    99.000000  134191.431000    49.900000   \n",
       "\n",
       "         Thickness       Height            X            Y            Z  \n",
       "count  1841.000000  1841.000000  2295.000000  2295.000000  2295.000000  \n",
       "mean      0.286464     1.617958    24.885756    18.990774     2.459532  \n",
       "std       0.321796     1.551904    13.021226     9.851166     4.879107  \n",
       "min       0.020000     0.150000     0.050000    -0.775000    -6.350000  \n",
       "25%            NaN          NaN    13.675000    12.115500    -1.700000  \n",
       "50%            NaN          NaN    25.000000    20.779000     2.375000  \n",
       "75%            NaN          NaN    36.597000    25.650000     6.875000  \n",
       "max       3.000000     4.350000    49.950000    39.950000    11.810000  "
      ]
     },
     "execution_count": 58,
     "metadata": {},
     "output_type": "execute_result"
    }
   ],
   "source": [
    "#6.b\n",
    "\n",
    "RawConstruction.describe()"
   ]
  },
  {
   "cell_type": "markdown",
   "metadata": {},
   "source": [
    "6.c EDA analysis"
   ]
  },
  {
   "cell_type": "code",
   "execution_count": 71,
   "metadata": {
    "collapsed": false
   },
   "outputs": [],
   "source": [
    "#6.c\n",
    "x = RawConstruction['Quantity'].max() - RawConstruction['Quantity'].min()"
   ]
  },
  {
   "cell_type": "code",
   "execution_count": 72,
   "metadata": {
    "collapsed": true
   },
   "outputs": [],
   "source": [
    "y = RawConstruction['UnitPrice'].max() - RawConstruction['UnitPrice'].min()"
   ]
  },
  {
   "cell_type": "code",
   "execution_count": 73,
   "metadata": {
    "collapsed": true
   },
   "outputs": [],
   "source": [
    "z = RawConstruction['TotalCost'].max() - RawConstruction['TotalCost'].min()"
   ]
  },
  {
   "cell_type": "code",
   "execution_count": 74,
   "metadata": {
    "collapsed": true
   },
   "outputs": [],
   "source": [
    "w = RawConstruction['Length'].max() - RawConstruction['Length'].min()"
   ]
  },
  {
   "cell_type": "code",
   "execution_count": 75,
   "metadata": {
    "collapsed": false
   },
   "outputs": [
    {
     "data": {
      "text/plain": [
       "[94882, 98.0, 134191.29099999997, 49.839999999999996]"
      ]
     },
     "execution_count": 75,
     "metadata": {},
     "output_type": "execute_result"
    }
   ],
   "source": [
    "range_list = [x, y, z, w]\n",
    "range_list"
   ]
  },
  {
   "cell_type": "markdown",
   "metadata": {},
   "source": [
    "End of 6.c"
   ]
  },
  {
   "cell_type": "markdown",
   "metadata": {},
   "source": [
    "6.e - Building materials used for buidling walls (BOQ category)"
   ]
  },
  {
   "cell_type": "code",
   "execution_count": 125,
   "metadata": {
    "collapsed": false
   },
   "outputs": [
    {
     "data": {
      "text/plain": [
       "ConcreteWall      7\n",
       "Columns           3\n",
       "Retaining Wall    2\n",
       "Name: ConstructionElementType, dtype: int64"
      ]
     },
     "execution_count": 125,
     "metadata": {},
     "output_type": "execute_result"
    }
   ],
   "source": [
    "#6.e\n",
    "\n",
    "def wall(x):\n",
    "    return 'walls' in x.lower()\n",
    "\n",
    "Schedule[Schedule.BOQ.apply(wall)].ConstructionElementType.value_counts()"
   ]
  },
  {
   "cell_type": "markdown",
   "metadata": {},
   "source": [
    "6.f - Create a binary column"
   ]
  },
  {
   "cell_type": "code",
   "execution_count": 126,
   "metadata": {
    "collapsed": false
   },
   "outputs": [],
   "source": [
    "#6.f\n",
    "\n",
    "RawConstruction['BiQuantity'] = pd.cut(RawConstruction['Quantity'], [0, 10, 94882837], labels=['low', 'high'])"
   ]
  },
  {
   "cell_type": "code",
   "execution_count": 35,
   "metadata": {
    "collapsed": false
   },
   "outputs": [],
   "source": [
    "# RawCon.to_csv('RawConstructionData(final).csv')"
   ]
  },
  {
   "cell_type": "markdown",
   "metadata": {},
   "source": [
    "Find month function - Extract the exact month from the Start Date"
   ]
  },
  {
   "cell_type": "code",
   "execution_count": 127,
   "metadata": {
    "collapsed": false
   },
   "outputs": [],
   "source": [
    "def find_month(x):\n",
    "    m = x.split('-')[1]\n",
    "    if m == '01':\n",
    "        return 'January'\n",
    "    elif m == '02':\n",
    "        return 'February'\n",
    "    elif m == '03':\n",
    "        return 'March'\n",
    "    elif m == '04':\n",
    "        return 'April'\n",
    "    elif m == '05':\n",
    "        return 'May'\n",
    "    elif m == '06':\n",
    "        return 'June'\n",
    "    elif m == '07':\n",
    "        return 'July'\n",
    "    elif m == '08':\n",
    "        return 'August'\n",
    "    elif m == '09':\n",
    "        return 'September'\n",
    "    elif m == '10':\n",
    "        return 'October'\n",
    "    elif m == '11':\n",
    "        return 'November'\n",
    "    elif m == '12':\n",
    "        return 'December'"
   ]
  },
  {
   "cell_type": "code",
   "execution_count": 128,
   "metadata": {
    "collapsed": true
   },
   "outputs": [],
   "source": [
    "Schedule['Month'] = ''\n",
    "for i in range(len(Schedule)):\n",
    "    Schedule['Month'].loc[i] = find_month(Schedule['START'][i])"
   ]
  },
  {
   "cell_type": "code",
   "execution_count": 129,
   "metadata": {
    "collapsed": false
   },
   "outputs": [],
   "source": [
    "# colnames(Schedule)[12] <- \"Cost Overun\"\n",
    "Schedule['Cost Overrun'] = Schedule['Cost Overrrun'] "
   ]
  },
  {
   "cell_type": "code",
   "execution_count": 51,
   "metadata": {
    "collapsed": false
   },
   "outputs": [],
   "source": [
    "sch_yes = Schedule[Schedule['Cost Overrun'] == 'YES'].Month.value_counts()\n",
    "sch_no = Schedule[Schedule['Cost Overrun'] == 'NO'].Month.value_counts()\n",
    "sch_no = sch_no[sch_yes.keys()]"
   ]
  },
  {
   "cell_type": "markdown",
   "metadata": {},
   "source": [
    "Visualize the monthly Cost Overrun"
   ]
  },
  {
   "cell_type": "code",
   "execution_count": 52,
   "metadata": {
    "collapsed": false
   },
   "outputs": [
    {
     "data": {
      "image/png": "[encoded data removed]",
      "text/plain": [
       "<matplotlib.figure.Figure at 0x272269c4c50>"
      ]
     },
     "metadata": {},
     "output_type": "display_data"
    }
   ],
   "source": [
    "sns.barplot(sch_yes.keys(), sch_yes, color='blue', label='yes')\n",
    "sns.barplot(sch_no.keys(), sch_no, bottom=sch_yes, color='green', label='no')\n",
    "plt.title('Cost Overun per Month')\n",
    "plt.ylabel('')\n",
    "plt.legend()\n",
    "plt.savefig('cmonth.png', bbox_inches='tight')"
   ]
  },
  {
   "cell_type": "code",
   "execution_count": 53,
   "metadata": {
    "collapsed": false
   },
   "outputs": [],
   "source": [
    "sch_yes = Schedule[Schedule['Delay'] == 'YES'].Month.value_counts()\n",
    "sch_no = Schedule[Schedule['Delay'] == 'NO'].Month.value_counts()"
   ]
  },
  {
   "cell_type": "code",
   "execution_count": 54,
   "metadata": {
    "collapsed": false
   },
   "outputs": [],
   "source": [
    "sch_no = sch_no[sch_yes.keys()]"
   ]
  },
  {
   "cell_type": "code",
   "execution_count": 55,
   "metadata": {
    "collapsed": false
   },
   "outputs": [
    {
     "data": {
      "text/plain": [
       "May        14\n",
       "April      11\n",
       "March      10\n",
       "January     8\n",
       "June        7\n",
       "Name: Month, dtype: int64"
      ]
     },
     "execution_count": 55,
     "metadata": {},
     "output_type": "execute_result"
    }
   ],
   "source": [
    "sch_yes"
   ]
  },
  {
   "cell_type": "markdown",
   "metadata": {},
   "source": [
    "Visualize the monthly Delay"
   ]
  },
  {
   "cell_type": "code",
   "execution_count": 57,
   "metadata": {
    "collapsed": false
   },
   "outputs": [
    {
     "data": {
      "image/png": "[encoded data removed]",
      "text/plain": [
       "<matplotlib.figure.Figure at 0x27226813048>"
      ]
     },
     "metadata": {},
     "output_type": "display_data"
    }
   ],
   "source": [
    "sns.barplot(sch_yes.keys(), sch_yes, color='gold', label='yes')\n",
    "sns.barplot(sch_no.keys(), sch_no, bottom=sch_yes, color='red', label='no')\n",
    "plt.title('Delays per month')\n",
    "plt.ylabel('')\n",
    "plt.legend()\n",
    "plt.savefig('dmonth.png', bbox_inches='tight')"
   ]
  },
  {
   "cell_type": "code",
   "execution_count": 130,
   "metadata": {
    "collapsed": true
   },
   "outputs": [],
   "source": [
    "RawConstruction.to_csv('RawConstructionData(final).csv')"
   ]
  },
  {
   "cell_type": "code",
   "execution_count": 131,
   "metadata": {
    "collapsed": true
   },
   "outputs": [],
   "source": [
    "Schedule.to_csv('Schedule(latest).csv')"
   ]
  },
  {
   "cell_type": "code",
   "execution_count": 132,
   "metadata": {
    "collapsed": true
   },
   "outputs": [],
   "source": [
    "RC = pd.read_csv('C:\\\\Users\\\\Nikos Spanos\\\\Documents\\\\Jupyter_Lab_ReGen\\\\phase-a\\\\RawConstructionData(final).csv', delimiter=',')"
   ]
  },
  {
   "cell_type": "code",
   "execution_count": 133,
   "metadata": {
    "collapsed": true
   },
   "outputs": [],
   "source": [
    "SCD = pd.read_csv('C:\\\\Users\\\\Nikos Spanos\\\\Documents\\\\Jupyter_Lab_ReGen\\\\phase-a\\\\Schedule(latest).csv', delimiter=',')"
   ]
  },
  {
   "cell_type": "code",
   "execution_count": 134,
   "metadata": {
    "collapsed": false
   },
   "outputs": [
    {
     "data": {
      "text/plain": [
       "[Timestamp('2015-06-11 00:00:00'), Timestamp('2015-01-20 00:00:00')]"
      ]
     },
     "execution_count": 134,
     "metadata": {},
     "output_type": "execute_result"
    }
   ],
   "source": [
    "SCD['START'] =  pd.to_datetime(SCD['START'], format='%d-%m-%Y')\n",
    "x = SCD['START'].max()\n",
    "y = SCD['START'].min()\n",
    "\n",
    "newlist=[x,y]\n",
    "newlist"
   ]
  },
  {
   "cell_type": "code",
   "execution_count": 135,
   "metadata": {
    "collapsed": false
   },
   "outputs": [
    {
     "data": {
      "text/plain": [
       "[Timestamp('2015-06-13 00:00:00'), Timestamp('2015-02-17 00:00:00')]"
      ]
     },
     "execution_count": 135,
     "metadata": {},
     "output_type": "execute_result"
    }
   ],
   "source": [
    "SCD['FINISH'] =  pd.to_datetime(SCD['FINISH'], format='%d-%m-%Y')\n",
    "w = SCD['FINISH'].max()\n",
    "z = SCD['FINISH'].min()\n",
    "\n",
    "newlist1=[w,z]\n",
    "newlist1"
   ]
  }
 ],
 "metadata": {
  "anaconda-cloud": {},
  "kernelspec": {
   "display_name": "Python [default]",
   "language": "python",
   "name": "python3"
  },
  "language_info": {
   "codemirror_mode": {
    "name": "ipython",
    "version": 3
   },
   "file_extension": ".py",
   "mimetype": "text/x-python",
   "name": "python",
   "nbconvert_exporter": "python",
   "pygments_lexer": "ipython3",
   "version": "3.5.2"
  }
 },
 "nbformat": 4,
 "nbformat_minor": 1
}
