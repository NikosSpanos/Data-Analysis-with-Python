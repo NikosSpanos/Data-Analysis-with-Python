{
 "cells": [
  {
   "cell_type": "code",
   "execution_count": 209,
   "metadata": {
    "collapsed": true
   },
   "outputs": [],
   "source": [
    "import numpy as np\n",
    "import pandas as pd"
   ]
  },
  {
   "cell_type": "markdown",
   "metadata": {},
   "source": [
    "Read the csv file"
   ]
  },
  {
   "cell_type": "code",
   "execution_count": 235,
   "metadata": {
    "collapsed": false,
    "scrolled": false
   },
   "outputs": [],
   "source": [
    "#dataframe = pd.read_csv('C:\\\\Users\\\\Nikos Spanos\\\\Documents\\\\Jupyter_Lab_ReGen\\\\RawConstructionData(final).csv', delimiter=',')"
   ]
  },
  {
   "cell_type": "code",
   "execution_count": 216,
   "metadata": {
    "collapsed": false
   },
   "outputs": [],
   "source": [
    "# dataframe.dtypes"
   ]
  },
  {
   "cell_type": "code",
   "execution_count": 217,
   "metadata": {
    "collapsed": false
   },
   "outputs": [],
   "source": [
    "# dataframe.isnull().sum()"
   ]
  },
  {
   "cell_type": "markdown",
   "metadata": {},
   "source": [
    "Fill the UnitPrice cell "
   ]
  },
  {
   "cell_type": "code",
   "execution_count": 236,
   "metadata": {
    "collapsed": false
   },
   "outputs": [
    {
     "data": {
      "text/plain": [
       "Unnamed: 0                                                                  599\n",
       "Unnamed: 0.1                                                                599\n",
       "Scope                                                                PRS_L1_STR\n",
       "Construction Element Type                                               Columns\n",
       "ID                                                                        34703\n",
       "Construction Element Family                                        ConcreteWork\n",
       "ConstructionElementPart                                              RC_CoL_Int\n",
       "BOQCategory                                                            Concrete\n",
       "BOQ                                             C30/37 for Columns & Con. Walls\n",
       "BOQDescription                 C30/37 for Columns (Internal) and Concrete Walls\n",
       "Quantity                                                                  1.328\n",
       "Unit                                                                         m3\n",
       "UnitPrice                                                                    99\n",
       "TotalCost                                                               131.472\n",
       "Length                                                                      NaN\n",
       "Thickness                                                                   NaN\n",
       "Height                                                                      NaN\n",
       "X                                                                         32.75\n",
       "Y                                                                         0.462\n",
       "Z                                                                         6.875\n",
       "Scope_ElementType_BOQ             PRS_L1_STR_Columns_C30/37forColumns&Con.Walls\n",
       "BiQuantity                                                                  low\n",
       "Name: 599, dtype: object"
      ]
     },
     "execution_count": 236,
     "metadata": {},
     "output_type": "execute_result"
    }
   ],
   "source": [
    "dataframe.UnitPrice = dataframe.UnitPrice.fillna(dataframe.TotalCost/dataframe.Quantity)\n",
    "dataframe.ix[599]     "
   ]
  },
  {
   "cell_type": "code",
   "execution_count": 219,
   "metadata": {
    "collapsed": false
   },
   "outputs": [],
   "source": [
    "# df = pd.read_csv('C:\\\\Users\\\\Nikos Spanos\\\\Documents\\\\Jupyter_Lab_ReGen\\\\Schedule.csv', delimiter=';')\n",
    "# df"
   ]
  },
  {
   "cell_type": "markdown",
   "metadata": {},
   "source": [
    "4.c - Change the Date Format - dd/mm/yyyy"
   ]
  },
  {
   "cell_type": "code",
   "execution_count": 196,
   "metadata": {
    "collapsed": true
   },
   "outputs": [],
   "source": [
    "# 4.c\n",
    "def date(x):\n",
    "    x = x.split('/')\n",
    "    if len(x[1]) == 1:\n",
    "        x[1] = \"0\" + x[1]\n",
    "    if len(x[0]) == 1:\n",
    "        x[0] = \"0\" + x[0]\n",
    "    x = \"-\".join([x[1], x[0], x[2]])\n",
    "    return x\n",
    "df['START'] = df['START'].apply(date)\n",
    "df['FINISH'] = df['FINISH'].apply(date)"
   ]
  },
  {
   "cell_type": "markdown",
   "metadata": {},
   "source": [
    "4.d - Extract the quarter from each Date"
   ]
  },
  {
   "cell_type": "code",
   "execution_count": null,
   "metadata": {
    "collapsed": true
   },
   "outputs": [],
   "source": [
    "# 4.d\n",
    "def find_quarter(x):\n",
    "    m = x.split('-')[1]\n",
    "    if int(m) < 4:\n",
    "        return 'Q1'\n",
    "    elif int(m) < 7:\n",
    "        return 'Q2'\n",
    "    elif int(m) < 10:\n",
    "        return 'Q3'\n",
    "    else:\n",
    "        return 'Q4'\n",
    "\n",
    "Sceh['Quarter'] = ''\n",
    "for i in range(len(Sceh)):\n",
    "    Sceh['Quarter'][i] = find_quarter(Sceh['START'][i])"
   ]
  },
  {
   "cell_type": "markdown",
   "metadata": {},
   "source": [
    "4.e - 4.g correct spelling mistakes and ambiguous content"
   ]
  },
  {
   "cell_type": "code",
   "execution_count": 106,
   "metadata": {
    "collapsed": false,
    "scrolled": true
   },
   "outputs": [],
   "source": [
    "#4.e\n",
    "df['Activity_Desc'] = df['Activity_Desc'].map(lambda x: x.rstrip('BO'))\n",
    "df['Activity_Desc'] = df['Activity_Desc'].map(lambda x: x.rstrip('L2'))\n",
    "df['Activity_Desc'] = df['Activity_Desc'].map(lambda x: x.rstrip('L1'))\n",
    "df['Activity_Desc'] = df['Activity_Desc'].map(lambda x: x.rstrip('L0'))\n",
    "df['Activity_Desc'] = df['Activity_Desc'].map(lambda x: x.rstrip('RF'))"
   ]
  },
  {
   "cell_type": "code",
   "execution_count": 107,
   "metadata": {
    "collapsed": false,
    "scrolled": true
   },
   "outputs": [],
   "source": [
    "#4.e\n",
    "df['Activity_Desc'].replace(regex=True,inplace=True,to_replace=r'L2',value=r'')\n",
    "df['Activity_Desc'].replace(regex=True,inplace=True,to_replace=r'RF',value=r'')\n",
    "df['Activity_Desc'].replace(regex=True,inplace=True,to_replace=r'BO',value=r'')\n",
    "df['Activity_Desc'].replace(regex=True,inplace=True,to_replace=r'LO',value=r'')\n",
    "df['Activity_Desc'].replace(regex=True,inplace=True,to_replace=r'L1',value=r'')"
   ]
  },
  {
   "cell_type": "code",
   "execution_count": null,
   "metadata": {
    "collapsed": false
   },
   "outputs": [],
   "source": [
    "# 4.f\n",
    "dataframe['Length'] = dataframe['Length'].round(2)"
   ]
  },
  {
   "cell_type": "code",
   "execution_count": null,
   "metadata": {
    "collapsed": false
   },
   "outputs": [],
   "source": [
    "# 4.f\n",
    "dataframe['Thickness'] = dataframe['Thickness'].round(2)"
   ]
  },
  {
   "cell_type": "code",
   "execution_count": null,
   "metadata": {
    "collapsed": false
   },
   "outputs": [],
   "source": [
    "# 4.f\n",
    "dataframe['Height'] = dataframe['Height'].round(2)"
   ]
  },
  {
   "cell_type": "code",
   "execution_count": null,
   "metadata": {
    "collapsed": true
   },
   "outputs": [],
   "source": [
    "# 4.g --until the end (Total 16 functions)\n",
    "def Reg(boq):\n",
    "    if boq == 'Bituminous (asphalt) WaterProofing':\n",
    "        boq = boq +' '+ 'Paint'\n",
    "    return boq"
   ]
  },
  {
   "cell_type": "code",
   "execution_count": null,
   "metadata": {
    "collapsed": true
   },
   "outputs": [],
   "source": [
    "dataframe['BOQDescription'] = dataframe['BOQDescription'].apply(Reg)"
   ]
  },
  {
   "cell_type": "code",
   "execution_count": null,
   "metadata": {
    "collapsed": true
   },
   "outputs": [],
   "source": [
    "def en(boq):\n",
    "    if boq == 'C30/37 for Columns (internal) and concrete walls':\n",
    "        boq = boq.title()\n",
    "    return boq"
   ]
  },
  {
   "cell_type": "code",
   "execution_count": null,
   "metadata": {
    "collapsed": false
   },
   "outputs": [],
   "source": [
    "dataframe['BOQDescription'] = dataframe['BOQDescription'].apply(en)"
   ]
  },
  {
   "cell_type": "code",
   "execution_count": null,
   "metadata": {
    "collapsed": false
   },
   "outputs": [],
   "source": [
    "dataframe['BOQDescription'].replace(regex=True,inplace=True,to_replace=r'For',value=r'for')\n",
    "dataframe['BOQDescription'].replace(regex=True,inplace=True,to_replace=r'And',value=r'and')"
   ]
  },
  {
   "cell_type": "code",
   "execution_count": null,
   "metadata": {
    "collapsed": true
   },
   "outputs": [],
   "source": [
    "def era(boq):\n",
    "    if boq == 'C30/37 for Retaining Walls and external columns':\n",
    "        boq = boq.title()\n",
    "    return boq"
   ]
  },
  {
   "cell_type": "code",
   "execution_count": null,
   "metadata": {
    "collapsed": false
   },
   "outputs": [],
   "source": [
    "dataframe['BOQDescription'] = dataframe['BOQDescription'].apply(era)"
   ]
  },
  {
   "cell_type": "code",
   "execution_count": null,
   "metadata": {
    "collapsed": false
   },
   "outputs": [],
   "source": [
    "dataframe['BOQDescription'].replace(regex=True,inplace=True,to_replace=r'For',value=r'for')\n",
    "dataframe['BOQDescription'].replace(regex=True,inplace=True,to_replace=r'And',value=r'and')"
   ]
  },
  {
   "cell_type": "code",
   "execution_count": null,
   "metadata": {
    "collapsed": true
   },
   "outputs": [],
   "source": [
    "def ti(boq):\n",
    "    if boq == 'formwork for Columns, Concrete Walls and Retaining Walls':\n",
    "        boq = 'Formwork for Columns, Concrete Walls and Retaining Walls'\n",
    "    return boq"
   ]
  },
  {
   "cell_type": "code",
   "execution_count": null,
   "metadata": {
    "collapsed": true
   },
   "outputs": [],
   "source": [
    "dataframe['BOQDescription'] = dataframe['BOQDescription'].apply(ti)"
   ]
  },
  {
   "cell_type": "code",
   "execution_count": null,
   "metadata": {
    "collapsed": true
   },
   "outputs": [],
   "source": [
    "def on(boq):\n",
    "    if boq == 'formwork for Mat Foundation' or boq == 'Formwork for MatFoundation' :\n",
    "        boq = 'Formwork for Mat Foundation'\n",
    "    return boq"
   ]
  },
  {
   "cell_type": "code",
   "execution_count": null,
   "metadata": {
    "collapsed": true
   },
   "outputs": [],
   "source": [
    "dataframe['BOQDescription'] = dataframe['BOQDescription'].apply(on)\n",
    "dataframe['BOQ'] = dataframe['BOQ'].apply(on)"
   ]
  },
  {
   "cell_type": "code",
   "execution_count": 117,
   "metadata": {
    "collapsed": true
   },
   "outputs": [],
   "source": [
    "def Ac(boq):\n",
    "    if boq == 'Polysterine Insulation, DOW 6cm' or boq == 'Polysterine Insulation(DOW)6cm':\n",
    "        boq = 'Polystyrene Insulation DOW (6cm)'\n",
    "    return boq"
   ]
  },
  {
   "cell_type": "code",
   "execution_count": null,
   "metadata": {
    "collapsed": false
   },
   "outputs": [],
   "source": [
    "dataframe['BOQDescription'] = dataframe['BOQDescription'].apply(Ac)\n",
    "dataframe['BOQ'] = dataframe['BOQ'].apply(Ac)"
   ]
  },
  {
   "cell_type": "code",
   "execution_count": 118,
   "metadata": {
    "collapsed": true
   },
   "outputs": [],
   "source": [
    "def ad(boq):\n",
    "    if boq == 'Polystyrene Insulation(DOW) 3cm' or boq == 'Polysterine Insulation(DOW)3cm':\n",
    "        boq = 'Polystyrene Insulation DOW (3cm)'\n",
    "    return boq"
   ]
  },
  {
   "cell_type": "code",
   "execution_count": null,
   "metadata": {
    "collapsed": true
   },
   "outputs": [],
   "source": [
    "dataframe['BOQDescription'] = dataframe['BOQDescription'].apply(ad)\n",
    "dataframe['BOQ'] = dataframe['BOQ'].apply(ad)"
   ]
  },
  {
   "cell_type": "code",
   "execution_count": null,
   "metadata": {
    "collapsed": true
   },
   "outputs": [],
   "source": [
    "def emy(boq):\n",
    "    if boq == 'Reinforcement for Columns-B500C':\n",
    "        boq = 'Reinforcement for Columns - B500C'\n",
    "    return boq"
   ]
  },
  {
   "cell_type": "code",
   "execution_count": null,
   "metadata": {
    "collapsed": false
   },
   "outputs": [],
   "source": [
    "dataframe['BOQDescription'] = dataframe['BOQDescription'].apply(emy)"
   ]
  },
  {
   "cell_type": "code",
   "execution_count": null,
   "metadata": {
    "collapsed": true
   },
   "outputs": [],
   "source": [
    "def Da(boq):\n",
    "    if boq == 'Reinforcement for Concrete Walls- B500C':\n",
    "        boq = 'Reinforcement for ConcreteWalls - B500C'\n",
    "    return boq"
   ]
  },
  {
   "cell_type": "code",
   "execution_count": null,
   "metadata": {
    "collapsed": true
   },
   "outputs": [],
   "source": [
    "dataframe['BOQDescription'] = dataframe['BOQDescription'].apply(Da)"
   ]
  },
  {
   "cell_type": "code",
   "execution_count": null,
   "metadata": {
    "collapsed": true
   },
   "outputs": [],
   "source": [
    "def ta(boq):\n",
    "    if boq == 'Reinforcement for MatFoundation - B500C':\n",
    "        boq = 'Reinforcement for Mat Foundation - B500C'\n",
    "    return boq"
   ]
  },
  {
   "cell_type": "code",
   "execution_count": null,
   "metadata": {
    "collapsed": true
   },
   "outputs": [],
   "source": [
    "dataframe['BOQDescription'] = dataframe['BOQDescription'].apply(ta)"
   ]
  },
  {
   "cell_type": "code",
   "execution_count": 113,
   "metadata": {
    "collapsed": false
   },
   "outputs": [],
   "source": [
    "def Sci(boq):\n",
    "    if boq == 'Reinforcement for MatFoundation':\n",
    "        boq = 'Reinforcement for Mat Foundation'\n",
    "    return boq"
   ]
  },
  {
   "cell_type": "code",
   "execution_count": null,
   "metadata": {
    "collapsed": false
   },
   "outputs": [],
   "source": [
    "dataframe['BOQ'] = dataframe['BOQ'].apply(Sci)"
   ]
  },
  {
   "cell_type": "code",
   "execution_count": null,
   "metadata": {
    "collapsed": true
   },
   "outputs": [],
   "source": [
    "def en1(boq):\n",
    "    if boq == 'Wat.Pr. Admixtures for Ret.Wall and external basement columns':\n",
    "        boq = 'WaterProofing Admixtures for Retaining Wall and Exernal Basement Columns'\n",
    "    return boq"
   ]
  },
  {
   "cell_type": "code",
   "execution_count": null,
   "metadata": {
    "collapsed": false
   },
   "outputs": [],
   "source": [
    "dataframe['BOQDescription'] = dataframe['BOQDescription'].apply(en1)"
   ]
  },
  {
   "cell_type": "code",
   "execution_count": null,
   "metadata": {
    "collapsed": true
   },
   "outputs": [],
   "source": [
    "def c(boq):\n",
    "    if boq == 'Wat.Pr. Admixtures for Ret.Wall':\n",
    "        boq = 'WaterProofing Admixtures for Retaiting Wall'\n",
    "    return boq"
   ]
  },
  {
   "cell_type": "code",
   "execution_count": null,
   "metadata": {
    "collapsed": false
   },
   "outputs": [],
   "source": [
    "dataframe['BOQ'] = dataframe['BOQ'].apply(c)"
   ]
  },
  {
   "cell_type": "code",
   "execution_count": 115,
   "metadata": {
    "collapsed": true
   },
   "outputs": [],
   "source": [
    "def e(boq):\n",
    "    if boq == 'Formwork for Columns,CW & RW':\n",
    "        boq = 'Formwork for Columns, CW & RW'\n",
    "    return boq"
   ]
  },
  {
   "cell_type": "code",
   "execution_count": null,
   "metadata": {
    "collapsed": false
   },
   "outputs": [],
   "source": [
    "dataframe['BOQ'] = dataframe['BOQ'].apply(e)"
   ]
  },
  {
   "cell_type": "code",
   "execution_count": 109,
   "metadata": {
    "collapsed": true
   },
   "outputs": [],
   "source": [
    "def data(boq):\n",
    "    if boq == 'Reinforcement for Retainign Walls':\n",
    "        boq = 'Reinforcement for Retaining Walls'\n",
    "    return boq"
   ]
  },
  {
   "cell_type": "code",
   "execution_count": 110,
   "metadata": {
    "collapsed": false
   },
   "outputs": [],
   "source": [
    "df['BOQ'] = df['BOQ'].apply(data)"
   ]
  },
  {
   "cell_type": "code",
   "execution_count": 111,
   "metadata": {
    "collapsed": true
   },
   "outputs": [],
   "source": [
    "def engineers(boq):\n",
    "    if boq == 'C30/37 for Columns & Con. Walls':\n",
    "        boq = 'C30/37 for Columns & Concrete Walls'\n",
    "    return boq"
   ]
  },
  {
   "cell_type": "code",
   "execution_count": 112,
   "metadata": {
    "collapsed": true
   },
   "outputs": [],
   "source": [
    "# df['BOQ'] = df['BOQ'].apply(engineers)"
   ]
  },
  {
   "cell_type": "code",
   "execution_count": 114,
   "metadata": {
    "collapsed": false
   },
   "outputs": [],
   "source": [
    "# df['BOQ'] = df['BOQ'].apply(Sci)"
   ]
  },
  {
   "cell_type": "code",
   "execution_count": 116,
   "metadata": {
    "collapsed": false
   },
   "outputs": [],
   "source": [
    "# df['BOQ'] = df['BOQ'].apply(e)"
   ]
  },
  {
   "cell_type": "code",
   "execution_count": 119,
   "metadata": {
    "collapsed": false
   },
   "outputs": [],
   "source": [
    "# df['BOQ'] = df['BOQ'].apply(Ac).apply(ad)"
   ]
  },
  {
   "cell_type": "markdown",
   "metadata": {},
   "source": [
    "End of ETL process - Save to a new csv file"
   ]
  },
  {
   "cell_type": "code",
   "execution_count": 125,
   "metadata": {
    "collapsed": false
   },
   "outputs": [],
   "source": [
    "df.to_csv('Schedule(latest).csv')"
   ]
  },
  {
   "cell_type": "code",
   "execution_count": null,
   "metadata": {
    "collapsed": false
   },
   "outputs": [],
   "source": [
    "dataframe.to_csv('RawConstructionData(final).csv')"
   ]
  },
  {
   "cell_type": "code",
   "execution_count": 226,
   "metadata": {
    "collapsed": true
   },
   "outputs": [],
   "source": [
    "#Schedule =pd.read_csv('C:\\\\Users\\\\Nikos Spanos\\\\Documents\\\\Jupyter_Lab_ReGen\\\\phase-a\\\\Schedule(latest).csv', delimiter=',')"
   ]
  },
  {
   "cell_type": "code",
   "execution_count": 228,
   "metadata": {
    "collapsed": true
   },
   "outputs": [],
   "source": [
    "#RawConstruction = pd.read_csv('C:\\\\Users\\\\Nikos Spanos\\\\Documents\\\\Jupyter_Lab_ReGen\\\\phase-a\\\\RawConstructionData(final).csv', delimiter=',')"
   ]
  }
 ],
 "metadata": {
  "anaconda-cloud": {},
  "kernelspec": {
   "display_name": "Python [default]",
   "language": "python",
   "name": "python3"
  },
  "language_info": {
   "codemirror_mode": {
    "name": "ipython",
    "version": 3
   },
   "file_extension": ".py",
   "mimetype": "text/x-python",
   "name": "python",
   "nbconvert_exporter": "python",
   "pygments_lexer": "ipython3",
   "version": "3.5.2"
  }
 },
 "nbformat": 4,
 "nbformat_minor": 1
}
